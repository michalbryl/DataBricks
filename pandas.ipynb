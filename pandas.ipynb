{
 "cells": [
  {
   "cell_type": "code",
   "execution_count": 0,
   "metadata": {
    "application/vnd.databricks.v1+cell": {
     "cellMetadata": {
      "byteLimit": 2048000,
      "rowLimit": 10000
     },
     "inputWidgets": {},
     "nuid": "cab33807-df85-4569-b6dd-5230f4cce6a8",
     "showTitle": false,
     "tableResultSettingsMap": {},
     "title": ""
    }
   },
   "outputs": [],
   "source": [
    "import pandas as pd"
   ]
  },
  {
   "cell_type": "code",
   "execution_count": 0,
   "metadata": {
    "application/vnd.databricks.v1+cell": {
     "cellMetadata": {
      "byteLimit": 2048000,
      "rowLimit": 10000
     },
     "inputWidgets": {},
     "nuid": "604c2b19-1864-4310-8e58-762e9bef46cd",
     "showTitle": false,
     "tableResultSettingsMap": {},
     "title": ""
    }
   },
   "outputs": [],
   "source": [
    "dfTransactions = spark.read.table(\"samples.bakehouse.sales_transactions\")\n",
    "dfSalesFranchise = spark.read.table(\"samples.bakehouse.sales_franchises\")\n",
    "\n",
    "dfTransactionsPd = dfTransactions.toPandas()\n",
    "dfFranchisePd = dfSalesFranchise.toPandas()\n",
    "\n",
    "dfJoined = dfTransactionsPd.join(\n",
    "    dfFranchisePd, \n",
    "    on='franchiseID', \n",
    "    how='inner', \n",
    "    lsuffix='_trans', \n",
    "    rsuffix='_fran'\n",
    ")\n",
    "dfJoined.head(10)"
   ]
  }
 ],
 "metadata": {
  "application/vnd.databricks.v1+notebook": {
   "computePreferences": {
    "hardware": {
     "accelerator": null,
     "gpuPoolId": null,
     "memory": null
    }
   },
   "dashboards": [],
   "environmentMetadata": {
    "base_environment": "",
    "environment_version": "2"
   },
   "inputWidgetPreferences": null,
   "language": "python",
   "notebookMetadata": {
    "pythonIndentUnit": 4
   },
   "notebookName": "pandas",
   "widgets": {}
  },
  "language_info": {
   "name": "python"
  }
 },
 "nbformat": 4,
 "nbformat_minor": 0
}

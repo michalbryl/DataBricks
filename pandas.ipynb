{
 "cells": [
  {
   "cell_type": "code",
   "execution_count": 0,
   "metadata": {
    "application/vnd.databricks.v1+cell": {
     "cellMetadata": {
      "byteLimit": 2048000,
      "rowLimit": 10000
     },
     "inputWidgets": {},
     "nuid": "cab33807-df85-4569-b6dd-5230f4cce6a8",
     "showTitle": false,
     "tableResultSettingsMap": {},
     "title": ""
    }
   },
   "outputs": [],
   "source": [
    "import pandas as pd"
   ]
  },
  {
   "cell_type": "code",
   "execution_count": 0,
   "metadata": {
    "application/vnd.databricks.v1+cell": {
     "cellMetadata": {
      "byteLimit": 2048000,
      "rowLimit": 10000
     },
     "inputWidgets": {},
     "nuid": "604c2b19-1864-4310-8e58-762e9bef46cd",
     "showTitle": false,
     "tableResultSettingsMap": {},
     "title": ""
    }
   },
   "outputs": [],
   "source": [
    "dfTransactions = spark.read.table(\"samples.bakehouse.sales_transactions\")\n",
    "dfSalesFranchise = spark.read.table(\"samples.bakehouse.sales_franchises\")\n",
    "\n",
    "dfTransactionsPd = dfTransactions.toPandas()\n",
    "dfFranchisePd = dfSalesFranchise.toPandas()\n",
    "\n",
    "#join in pandas uses index merge columns\n",
    "dfJoined = dfTransactionsPd.merge(\n",
    "    dfFranchisePd,\n",
    "    on='franchiseID',\n",
    "    how='inner',\n",
    "    suffixes=('_trans', '_fran')\n",
    ")\n",
    "\n",
    "dfJoined.groupby(\"name\").agg({\"totalPrice\": \"sum\"}).sort_values(\"totalPrice\", ascending=False).head(10)\n",
    "\n",
    "\n"
   ]
  },
  {
   "cell_type": "code",
   "execution_count": 0,
   "metadata": {
    "application/vnd.databricks.v1+cell": {
     "cellMetadata": {
      "byteLimit": 2048000,
      "implicitDf": true,
      "rowLimit": 10000
     },
     "inputWidgets": {},
     "nuid": "d5afe7dc-1472-4dde-a073-6878f1fa7a71",
     "showTitle": false,
     "tableResultSettingsMap": {},
     "title": ""
    }
   },
   "outputs": [],
   "source": [
    "%sql\n",
    "SELECT b.name, SUM(a.totalPrice) totalPrice\n",
    "FROM samples.bakehouse.sales_transactions a\n",
    "JOIN samples.bakehouse.sales_franchises b on a.franchiseID = b.franchiseID \n",
    "GROUP BY b.name\n",
    "order by SUM(a.totalPrice) desc\n",
    "Limit 10"
   ]
  }
 ],
 "metadata": {
  "application/vnd.databricks.v1+notebook": {
   "computePreferences": {
    "hardware": {
     "accelerator": null,
     "gpuPoolId": null,
     "memory": null
    }
   },
   "dashboards": [],
   "environmentMetadata": {
    "base_environment": "",
    "environment_version": "2"
   },
   "inputWidgetPreferences": null,
   "language": "python",
   "notebookMetadata": {
    "mostRecentlyExecutedCommandWithImplicitDF": {
     "commandId": 5564813836611437,
     "dataframes": [
      "_sqldf"
     ]
    },
    "pythonIndentUnit": 4
   },
   "notebookName": "pandas",
   "widgets": {}
  },
  "language_info": {
   "name": "python"
  }
 },
 "nbformat": 4,
 "nbformat_minor": 0
}
